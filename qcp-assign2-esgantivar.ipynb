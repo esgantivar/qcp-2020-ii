{
  "nbformat": 4,
  "nbformat_minor": 0,
  "metadata": {
    "colab": {
      "name": "qcp-assign2-esgantivar.ipynb",
      "provenance": []
    },
    "kernelspec": {
      "name": "python3",
      "display_name": "Python 3"
    }
  },
  "cells": [
    {
      "cell_type": "markdown",
      "metadata": {
        "id": "T1tmGA6VLoCy"
      },
      "source": [
        "# Assignment 2\n",
        "## [Quantum Computer Programming](https://fagonzalezo.github.io/qcp-2020-2/)\n",
        "\n",
        "## 1.\n",
        "\n",
        "The spread of a qubit with state $| \\psi \\rangle$ with respect to a basis \n",
        "$\\{ | v_0 \\rangle, | v_1 \\rangle\\}$ is defined as $S_{v_0, v_1}(| \\psi \\rangle) = |\\alpha_0| + |\\alpha_1|$ where $|\\psi \\rangle = \\alpha_0 |v_0\\rangle + \\alpha_1 |v_1\\rangle$.\n",
        "\n",
        "Write a function that given a state $| \\psi \\rangle$ returns a basis $\\{ | v_0 \\rangle, | v_1 \\rangle\\}$ such that $S_{v_0, v_1}(| \\psi \\rangle)$ is maximum."
      ]
    },
    {
      "cell_type": "code",
      "metadata": {
        "id": "seWSxETULjQ4"
      },
      "source": [
        "def max_spread(psi):\n",
        "    '''\n",
        "     psi: a complex numpy array of shape (2,)\n",
        "    Returns:\n",
        "     a list with two complex numpy arrays of shape (2,)\n",
        "    '''\n",
        "    import numpy as np\n",
        "    psi_ort = np.array([psi[1].conj(), -psi[0].conj()])\n",
        "    v_0 = (1/np.sqrt(2)) * (psi + psi_ort)\n",
        "    v_1 = (1/np.sqrt(2)) * (psi - psi_ort)\n",
        "    return [v_0, v_1]"
      ],
      "execution_count": null,
      "outputs": []
    },
    {
      "cell_type": "markdown",
      "metadata": {
        "id": "-LTv6nDZO8DB"
      },
      "source": [
        "## 2. \n",
        "Given a unitary operator $U$ find a state $|\\psi\\rangle$ such that $U$ applied to $|\\psi\\rangle$ produces again $|\\psi\\rangle$ (ignoring the global phase)."
      ]
    },
    {
      "cell_type": "code",
      "metadata": {
        "id": "WlXzJGo-PaKc"
      },
      "source": [
        "def fix_state(U):\n",
        "    '''\n",
        "     U: a complex numpy array of shape (2, 2)\n",
        "    Returns:\n",
        "     a complex numpy array of shape (2, )\n",
        "    '''\n",
        "    import numpy as np\n",
        "    v, w = np.linalg.eig(U)\n",
        "    return w.T[0]"
      ],
      "execution_count": null,
      "outputs": []
    },
    {
      "cell_type": "markdown",
      "metadata": {
        "id": "stN6usj-Pxgb"
      },
      "source": [
        "## 3.\n",
        "Suppose a system of $n$ qubits $\\{ q_1, \\dots, q_n \\}$ with state $|\\psi\\rangle\\in\\mathbb{C}^{2^n}$.\n",
        "\n",
        "Write a function $f:\\mathbb{C}^{2^n}\\times \\{1,\\dots,n\\} \\rightarrow \\mathbb{R}$ such that $f(|\\psi\\rangle, i)$ corresponds to the probability that the qubit $q_i$ is in state $|1\\rangle$."
      ]
    },
    {
      "cell_type": "code",
      "metadata": {
        "id": "AlOLEknESD1w"
      },
      "source": [
        "def prob_f(psi, i):\n",
        "    '''\n",
        "     psi: a complex numpy array of shape (2 ** n, )\n",
        "     i: integer in the range [1, n]\n",
        "    Returns:\n",
        "     a real number\n",
        "    '''\n",
        "    import numpy as np\n",
        "    idx = i - 1\n",
        "    n = int(np.log2(psi.shape[0]))\n",
        "    items = [np.linalg.norm(i) ** 2 for i in psi]\n",
        "    _psi = [1, 1] if idx != 0 else [0, 1]\n",
        "    for j in range(1, n):\n",
        "      next = [1, 1] if idx != j else [0, 1]\n",
        "      _psi = np.kron(_psi, next)\n",
        "    return np.inner(items, _psi)"
      ],
      "execution_count": null,
      "outputs": []
    },
    {
      "cell_type": "markdown",
      "metadata": {
        "id": "cDVH7fc_W5Kv"
      },
      "source": [
        "## 4.\n",
        "Write a function that given the state of a 3 qubits system determines if it is an entangled state or not"
      ]
    },
    {
      "cell_type": "code",
      "metadata": {
        "id": "DdWZfcXQXHT9"
      },
      "source": [
        "def entangled(psi):\n",
        "    '''\n",
        "     psi: a complex numpy array of shape (8, )\n",
        "    Returns:\n",
        "     boolean indicating whether psi is an entangled state or not\n",
        "    '''\n",
        "    # Your code here\n",
        "    import numpy as np\n",
        "    a = psi[0] * psi[7]\n",
        "    b = psi[1] * psi[6]\n",
        "    c = psi[2] * psi[5]\n",
        "    d = psi[3] * psi[4]\n",
        "    return not (np.isclose(a, b, atol=1e-06) and np.isclose(a, c, atol=1e-06) and np.isclose(b, c, atol=1e-06) and np.isclose(b, c, atol=1e-06) and  np.isclose(b, d, atol=1e-06) and np.isclose(c, d, atol=1e-06))"
      ],
      "execution_count": null,
      "outputs": []
    }
  ]
}